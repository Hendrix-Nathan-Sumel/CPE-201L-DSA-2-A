{
  "nbformat": 4,
  "nbformat_minor": 0,
  "metadata": {
    "colab": {
      "provenance": [],
      "authorship_tag": "ABX9TyMd8wQjU+f57W/tsKqrkMlh",
      "include_colab_link": true
    },
    "kernelspec": {
      "name": "python3",
      "display_name": "Python 3"
    },
    "language_info": {
      "name": "python"
    }
  },
  "cells": [
    {
      "cell_type": "markdown",
      "metadata": {
        "id": "view-in-github",
        "colab_type": "text"
      },
      "source": [
        "<a href=\"https://colab.research.google.com/github/Hendrix-Nathan-Sumel/CPE-201L-DSA-2-A/blob/main/lab_report_9_(sumel).ipynb\" target=\"_parent\"><img src=\"https://colab.research.google.com/assets/colab-badge.svg\" alt=\"Open In Colab\"/></a>"
      ]
    },
    {
      "cell_type": "code",
      "execution_count": null,
      "metadata": {
        "colab": {
          "base_uri": "https://localhost:8080/"
        },
        "id": "jgrHPTWi4Od3",
        "outputId": "2afdbe32-5ca7-48e6-fe9c-b70b3e3e5db3"
      },
      "outputs": [
        {
          "output_type": "stream",
          "name": "stdout",
          "text": [
            "Pushed Element: 1\n",
            "Pushed Element: 2\n",
            "Pushed Element: 3\n",
            "Pushed Element: 4\n",
            "Pushed Element: 5\n",
            "The elements in the stack are:['1', '2', '3', '4', '5']\n"
          ]
        }
      ],
      "source": [
        "# Stack implementation in python\n",
        "\n",
        "# Creating a stack\n",
        "def create_stack():\n",
        "    stack = []\n",
        "    return stack\n",
        "\n",
        "\n",
        "# Creating an empty stack\n",
        "def is_empty(stack):\n",
        "    return len(stack) == 0\n",
        "\n",
        "# Adding items into the stack\n",
        "def push(stack, item):\n",
        "    stack.append(item)\n",
        "    print(\"Pushed Element: \" + item)\n",
        "\n",
        "# Removing an element from the stack\n",
        "def pop(stack):\n",
        "    if (is_empty(stack)):\n",
        "        return \"The stack is empty\"\n",
        "    return stack.pop()\n",
        "\n",
        "stack = create_stack()\n",
        "push(stack, str(1))\n",
        "push(stack, str(2))\n",
        "push(stack, str(3))\n",
        "push(stack, str(4))\n",
        "push(stack, str(5))\n",
        "\n",
        "print(\"The elements in the stack are:\"+ str(stack))\n",
        "\n"
      ]
    },
    {
      "cell_type": "code",
      "source": [
        "# Queue implementation in Python using a list (FIFO)\n",
        "\n",
        "def create_queue():\n",
        "    queue = []\n",
        "    return queue\n",
        "\n",
        "def is_empty(queue):\n",
        "    return len(queue) == 0\n",
        "\n",
        "# Enqueue: Add to the back (O(1))\n",
        "def enqueue(queue, item):\n",
        "    queue.append(item)\n",
        "    print(f\"Enqueued Element: {item}\")\n",
        "\n",
        "# Dequeue: Remove from the front (O(n) - requires shifting elements)\n",
        "def dequeue(queue):\n",
        "    if is_empty(queue):\n",
        "        return \"Error: Cannot dequeue. The queue is empty.\"\n",
        "    return queue.pop(0)\n",
        "\n",
        "# First: Peek at the front element\n",
        "def first(queue):\n",
        "    if is_empty(queue):\n",
        "        return \"Error: The queue is empty.\"\n",
        "    return queue[0]\n",
        "\n",
        "# --- Example Usage ---\n",
        "my_queue = create_queue()\n",
        "enqueue(my_queue, \"A\")\n",
        "enqueue(my_queue, \"B\")\n",
        "print(f\"Dequeue: {dequeue(my_queue)}\") # Output: A (FIFO)\n",
        "print(f\"Remaining Queue: {my_queue}\")  # Output: ['B']"
      ],
      "metadata": {
        "id": "zG3lgEbTOFxb",
        "outputId": "e1ea0f58-bc66-41e4-d05c-905c5e11bc7e",
        "colab": {
          "base_uri": "https://localhost:8080/"
        }
      },
      "execution_count": null,
      "outputs": [
        {
          "output_type": "stream",
          "name": "stdout",
          "text": [
            "Enqueued Element: A\n",
            "Enqueued Element: B\n",
            "Dequeue: A\n",
            "Remaining Queue: ['B']\n"
          ]
        }
      ]
    }
  ]
}