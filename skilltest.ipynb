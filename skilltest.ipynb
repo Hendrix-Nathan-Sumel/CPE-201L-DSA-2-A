{
  "nbformat": 4,
  "nbformat_minor": 0,
  "metadata": {
    "colab": {
      "provenance": [],
      "authorship_tag": "ABX9TyN1D7GD15+PgB9YMg3TNYY+",
      "include_colab_link": true
    },
    "kernelspec": {
      "name": "python3",
      "display_name": "Python 3"
    },
    "language_info": {
      "name": "python"
    }
  },
  "cells": [
    {
      "cell_type": "markdown",
      "metadata": {
        "id": "view-in-github",
        "colab_type": "text"
      },
      "source": [
        "<a href=\"https://colab.research.google.com/github/Hendrix-Nathan-Sumel/CPE-201L-DSA-2-A/blob/main/skilltest.ipynb\" target=\"_parent\"><img src=\"https://colab.research.google.com/assets/colab-badge.svg\" alt=\"Open In Colab\"/></a>"
      ]
    },
    {
      "cell_type": "code",
      "source": [
        "class Node:\n",
        "    def __init__(self, data):\n",
        "        self.data = data\n",
        "        self.next = None\n",
        "\n",
        "class LinkedList:\n",
        "    def __init__(self):\n",
        "        self.head = None\n",
        "\n",
        "    def append(self, data):\n",
        "        new_node = Node(data)\n",
        "        if self.head is None:\n",
        "            self.head = new_node\n",
        "            return\n",
        "        temp = self.head\n",
        "        while temp.next:\n",
        "            temp = temp.next\n",
        "        temp.next = new_node\n",
        "\n",
        "    def traverse(self):\n",
        "        temp = self.head\n",
        "        while temp:\n",
        "            print(temp.data)\n",
        "            temp = temp.next\n",
        "\n",
        "\n",
        "if __name__ == '__main__':\n",
        "\n",
        "    llist = LinkedList()\n",
        "\n",
        "    full_name = input(\"Hendrix Nathan Sumel: \")\n",
        "\n",
        "    for ch in full_name:\n",
        "        llist.append(ch)\n",
        "\n",
        "    print(\"\\nTraversing your name character by character:\")\n",
        "    llist.traverse()"
      ],
      "metadata": {
        "id": "7LA6pHX7hVqc"
      },
      "execution_count": null,
      "outputs": []
    }
  ]
}