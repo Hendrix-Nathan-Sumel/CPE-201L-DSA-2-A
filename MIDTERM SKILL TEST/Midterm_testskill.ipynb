{
  "nbformat": 4,
  "nbformat_minor": 0,
  "metadata": {
    "colab": {
      "provenance": [],
      "authorship_tag": "ABX9TyMhv/wT/OVF+l0jiF/QFVIh",
      "include_colab_link": true
    },
    "kernelspec": {
      "name": "python3",
      "display_name": "Python 3"
    },
    "language_info": {
      "name": "python"
    }
  },
  "cells": [
    {
      "cell_type": "markdown",
      "metadata": {
        "id": "view-in-github",
        "colab_type": "text"
      },
      "source": [
        "<a href=\"https://colab.research.google.com/github/Hendrix-Nathan-Sumel/CPE-201L-DSA-2-A/blob/main/Midterm_testskill.ipynb\" target=\"_parent\"><img src=\"https://colab.research.google.com/assets/colab-badge.svg\" alt=\"Open In Colab\"/></a>"
      ]
    },
    {
      "cell_type": "code",
      "source": [
        "class Node:\n",
        "    def __init__(self, data):\n",
        "        self.data = data\n",
        "        self.next = None\n",
        "\n",
        "\n",
        "class SinglyLinkedList:\n",
        "    def __init__(self):\n",
        "        self.head = None\n",
        "\n",
        "    # data\n",
        "    def create_initial_list(self):\n",
        "        self.append(1)\n",
        "        self.append(3)\n",
        "        self.append(5)\n",
        "        self.append(7)\n",
        "        self.append(9)\n",
        "        self.append(11)\n",
        "        self.append(13)\n",
        "        self.append(15)\n",
        "        self.append(17)\n",
        "        self.append(19)\n",
        "        self.append(21)\n",
        "        self.append(23)\n",
        "        self.append(25)\n",
        "        self.append(27)\n",
        "        self.append(29)\n",
        "\n",
        "    # a. Display all data (inline with arrows)\n",
        "    def display(self):\n",
        "        current = self.head\n",
        "        if not current:\n",
        "            print(\"List is empty.\")\n",
        "            return\n",
        "        while current:\n",
        "            print(current.data, end=\" -> \")\n",
        "            current = current.next\n",
        "        print(\"None\")\n",
        "\n",
        "    # b. Append a node\n",
        "    def append(self, data):\n",
        "        new_node = Node(data)\n",
        "        if not self.head:\n",
        "            self.head = new_node\n",
        "            return\n",
        "        current = self.head\n",
        "        while current.next:\n",
        "            current = current.next\n",
        "        current.next = new_node\n",
        "\n",
        "    # c. Delete a node\n",
        "    def delete(self, key):\n",
        "        current = self.head\n",
        "\n",
        "        # If the head itself is the node to be deleted\n",
        "        if current and current.data == key:\n",
        "            self.head = current.next\n",
        "            current = None\n",
        "            return\n",
        "\n",
        "        prev = None\n",
        "        while current and current.data != key:\n",
        "            prev = current\n",
        "            current = current.next\n",
        "\n",
        "        # if not (if ever)\n",
        "        if not current:\n",
        "            print(f\"Node with data {key} not found.\")\n",
        "            return\n",
        "\n",
        "        prev.next = current.next\n",
        "        current = None\n",
        "\n",
        "if __name__ == \"__main__\":\n",
        "    sll = SinglyLinkedList()\n",
        "    sll.create_initial_list()\n",
        "\n",
        "    print(\"Initial List:\")\n",
        "    sll.display()\n",
        "\n",
        "    print(\"\\nAppending 31:\")\n",
        "    sll.append(31)\n",
        "    sll.display()\n",
        "\n",
        "    print(\"\\nDeleting 15:\")\n",
        "    sll.delete(15)\n",
        "    sll.display()"
      ],
      "metadata": {
        "colab": {
          "base_uri": "https://localhost:8080/"
        },
        "id": "FxzskcH5Ly0l",
        "outputId": "f51aa909-c1f1-41ac-8ce6-91a0a96229af"
      },
      "execution_count": 4,
      "outputs": [
        {
          "output_type": "stream",
          "name": "stdout",
          "text": [
            "Initial List:\n",
            "1 -> 3 -> 5 -> 7 -> 9 -> 11 -> 13 -> 15 -> 17 -> 19 -> 21 -> 23 -> 25 -> 27 -> 29 -> None\n",
            "\n",
            "Appending 31:\n",
            "1 -> 3 -> 5 -> 7 -> 9 -> 11 -> 13 -> 15 -> 17 -> 19 -> 21 -> 23 -> 25 -> 27 -> 29 -> 31 -> None\n",
            "\n",
            "Deleting 15:\n",
            "1 -> 3 -> 5 -> 7 -> 9 -> 11 -> 13 -> 17 -> 19 -> 21 -> 23 -> 25 -> 27 -> 29 -> 31 -> None\n"
          ]
        }
      ]
    }
  ]
}
