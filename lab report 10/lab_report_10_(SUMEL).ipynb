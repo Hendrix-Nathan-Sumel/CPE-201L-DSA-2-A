{
  "nbformat": 4,
  "nbformat_minor": 0,
  "metadata": {
    "colab": {
      "provenance": [],
      "authorship_tag": "ABX9TyMUkOMObVLC4qiudrZCKLMv",
      "include_colab_link": true
    },
    "kernelspec": {
      "name": "python3",
      "display_name": "Python 3"
    },
    "language_info": {
      "name": "python"
    }
  },
  "cells": [
    {
      "cell_type": "markdown",
      "metadata": {
        "id": "view-in-github",
        "colab_type": "text"
      },
      "source": [
        "<a href=\"https://colab.research.google.com/github/Hendrix-Nathan-Sumel/CPE-201L-DSA-2-A/blob/main/lab_report_10_(SUMEL).ipynb\" target=\"_parent\"><img src=\"https://colab.research.google.com/assets/colab-badge.svg\" alt=\"Open In Colab\"/></a>"
      ]
    },
    {
      "cell_type": "code",
      "execution_count": 2,
      "metadata": {
        "id": "To_VuU3fqPrd"
      },
      "outputs": [],
      "source": [
        "graph = {\n",
        "    'a': ['c'],\n",
        "    'b': ['c', 'e'],\n",
        "    'c': ['a', 'b', 'd', 'e'],\n",
        "    'd': ['c'],\n",
        "    'e': ['b', 'c'],\n",
        "    'f': []\n",
        "}\n"
      ]
    }
  ]
}
