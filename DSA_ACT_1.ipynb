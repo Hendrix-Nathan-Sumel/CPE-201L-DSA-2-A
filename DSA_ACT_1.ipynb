{
  "nbformat": 4,
  "nbformat_minor": 0,
  "metadata": {
    "colab": {
      "provenance": [],
      "authorship_tag": "ABX9TyNEWpAyb+FrLXe11xV+VHxh",
      "include_colab_link": true
    },
    "kernelspec": {
      "name": "python3",
      "display_name": "Python 3"
    },
    "language_info": {
      "name": "python"
    }
  },
  "cells": [
    {
      "cell_type": "markdown",
      "metadata": {
        "id": "view-in-github",
        "colab_type": "text"
      },
      "source": [
        "<a href=\"https://colab.research.google.com/github/Hendrix-Nathan-Sumel/CPE-201L-DSA-2-A/blob/main/DSA_ACT_1.ipynb\" target=\"_parent\"><img src=\"https://colab.research.google.com/assets/colab-badge.svg\" alt=\"Open In Colab\"/></a>"
      ]
    },
    {
      "cell_type": "markdown",
      "source": [
        "create a python program that computes the area of a circle"
      ],
      "metadata": {
        "id": "bG6aWZe_0nnu"
      }
    },
    {
      "cell_type": "markdown",
      "source": [],
      "metadata": {
        "id": "GfV7Zlus2kRG"
      }
    },
    {
      "cell_type": "code",
      "source": [
        "import math\n",
        "r = float(input(\"pakilagay po yung radius nung circle: \"))\n",
        "print(\"area: \", round(math.pi*r**2,2))"
      ],
      "metadata": {
        "colab": {
          "base_uri": "https://localhost:8080/"
        },
        "id": "DFHjh_If2hvG",
        "outputId": "99b06617-8cf8-4506-ea47-9a1d0b391784"
      },
      "execution_count": 6,
      "outputs": [
        {
          "output_type": "stream",
          "name": "stdout",
          "text": [
            "pakilagay po yung radius nung circle: 5\n",
            "area:  78.54\n"
          ]
        }
      ]
    },
    {
      "cell_type": "code",
      "source": [
        "import math\n",
        "diameter = float(input(\"diamater: \"))\n",
        "radius = diameter/2\n",
        "area = math.pi * radius ** 2\n",
        "print(\"area =\", round(area, 2))"
      ],
      "metadata": {
        "colab": {
          "base_uri": "https://localhost:8080/"
        },
        "id": "RnxwTORQ7F1n",
        "outputId": "e5917c31-4ed4-4c1b-8854-e51871bca501"
      },
      "execution_count": 10,
      "outputs": [
        {
          "output_type": "stream",
          "name": "stdout",
          "text": [
            "diamater: 7\n",
            "area = 38.48\n"
          ]
        }
      ]
    },
    {
      "cell_type": "markdown",
      "source": [],
      "metadata": {
        "id": "6rDufqOS7_2H"
      }
    }
  ]
}