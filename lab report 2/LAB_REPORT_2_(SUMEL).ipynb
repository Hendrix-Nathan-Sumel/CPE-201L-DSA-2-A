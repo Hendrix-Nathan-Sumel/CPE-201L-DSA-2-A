{
  "nbformat": 4,
  "nbformat_minor": 0,
  "metadata": {
    "colab": {
      "provenance": [],
      "authorship_tag": "ABX9TyOAXde+AN5xiTU16/YPBYZF",
      "include_colab_link": true
    },
    "kernelspec": {
      "name": "python3",
      "display_name": "Python 3"
    },
    "language_info": {
      "name": "python"
    }
  },
  "cells": [
    {
      "cell_type": "markdown",
      "metadata": {
        "id": "view-in-github",
        "colab_type": "text"
      },
      "source": [
        "<a href=\"https://colab.research.google.com/github/Hendrix-Nathan-Sumel/CPE-201L-DSA-2-A/blob/main/LAB_REPORT_2_(SUMEL).ipynb\" target=\"_parent\"><img src=\"https://colab.research.google.com/assets/colab-badge.svg\" alt=\"Open In Colab\"/></a>"
      ]
    },
    {
      "cell_type": "code",
      "execution_count": 1,
      "metadata": {
        "colab": {
          "base_uri": "https://localhost:8080/"
        },
        "id": "MRxcV7TAEhuw",
        "outputId": "331bd9cc-c07c-4611-8d74-90f0e6d552a6"
      },
      "outputs": [
        {
          "output_type": "stream",
          "name": "stdout",
          "text": [
            "Minimum: 1\n",
            "Maximum: 9\n"
          ]
        }
      ],
      "source": [
        "def find_min_max(seq, index=0):\n",
        "    if index == len(seq) - 1:\n",
        "        return seq[index], seq[index]\n",
        "\n",
        "    current_min, current_max = find_min_max(seq, index + 1)\n",
        "\n",
        "    return min(seq[index], current_min), max(seq[index], current_max)\n",
        "\n",
        "numbers = [7, 2, 9, 4, 1, 5]\n",
        "minimum, maximum = find_min_max(numbers)\n",
        "print(\"Minimum:\", minimum)\n",
        "print(\"Maximum:\", maximum)"
      ]
    }
  ]
}
