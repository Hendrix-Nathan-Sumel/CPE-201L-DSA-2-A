{
  "nbformat": 4,
  "nbformat_minor": 0,
  "metadata": {
    "colab": {
      "provenance": [],
      "authorship_tag": "ABX9TyMbaeloGheT+IcUx80PpUC/",
      "include_colab_link": true
    },
    "kernelspec": {
      "name": "python3",
      "display_name": "Python 3"
    },
    "language_info": {
      "name": "python"
    }
  },
  "cells": [
    {
      "cell_type": "markdown",
      "metadata": {
        "id": "view-in-github",
        "colab_type": "text"
      },
      "source": [
        "<a href=\"https://colab.research.google.com/github/Hendrix-Nathan-Sumel/CPE-201L-DSA-2-A/blob/main/Polygon.ipynb\" target=\"_parent\"><img src=\"https://colab.research.google.com/assets/colab-badge.svg\" alt=\"Open In Colab\"/></a>"
      ]
    },
    {
      "cell_type": "code",
      "source": [
        "class Polygons:\n",
        "    def __init__(self, name: str, sides: int, area: float):\n",
        "        self.name = name\n",
        "        self.sides = sides\n",
        "        self.area = area\n",
        "\n",
        "    def set_name(self, name: str):\n",
        "        self.name = name\n",
        "\n",
        "    def set_sides(self, sides: int):\n",
        "        self.sides = sides\n",
        "        print(f\"Sides set to: {self.sides}\")\n",
        "\n",
        "    def set_area(self, area: float):\n",
        "        self.area = area\n",
        "\n",
        "    def get_name(self) -> str:\n",
        "        return self.name\n",
        "\n",
        "    def get_sides(self) -> int:\n",
        "        return self.sides\n",
        "\n",
        "    def get_area(self) -> float:\n",
        "        return self.area\n",
        "\n",
        "\n",
        "# Test the class\n",
        "polygon = Polygons(\"Triangle\", 3, 15.5)\n",
        "\n",
        "print(polygon.get_name())\n",
        "print(polygon.get_sides())\n",
        "print(polygon.get_area())\n",
        "\n",
        "polygon.set_name(\"Square\")\n",
        "polygon.set_sides(4)\n",
        "polygon.set_area(20.0)\n",
        "\n",
        "print(polygon.get_name())\n",
        "print(polygon.get_sides())\n",
        "print(polygon.get_area())"
      ],
      "metadata": {
        "colab": {
          "base_uri": "https://localhost:8080/"
        },
        "id": "pCH8SrXol4JO",
        "outputId": "26aad97e-dfb2-429b-e9d7-e20cfedbd343"
      },
      "execution_count": 77,
      "outputs": [
        {
          "output_type": "stream",
          "name": "stdout",
          "text": [
            "Triangle\n",
            "3\n",
            "15.5\n",
            "Sides set to: 4\n",
            "Square\n",
            "4\n",
            "20.0\n"
          ]
        }
      ]
    }
  ]
}