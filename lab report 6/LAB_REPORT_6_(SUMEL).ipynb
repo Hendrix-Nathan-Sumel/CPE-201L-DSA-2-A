{
  "nbformat": 4,
  "nbformat_minor": 0,
  "metadata": {
    "colab": {
      "provenance": [],
      "authorship_tag": "ABX9TyMziXbKkIu/rcFAIZkGoybL",
      "include_colab_link": true
    },
    "kernelspec": {
      "name": "python3",
      "display_name": "Python 3"
    },
    "language_info": {
      "name": "python"
    }
  },
  "cells": [
    {
      "cell_type": "markdown",
      "metadata": {
        "id": "view-in-github",
        "colab_type": "text"
      },
      "source": [
        "<a href=\"https://colab.research.google.com/github/Hendrix-Nathan-Sumel/CPE-201L-DSA-2-A/blob/main/LAB_REPORT_6_(SUMEL).ipynb\" target=\"_parent\"><img src=\"https://colab.research.google.com/assets/colab-badge.svg\" alt=\"Open In Colab\"/></a>"
      ]
    },
    {
      "cell_type": "code",
      "execution_count": null,
      "metadata": {
        "colab": {
          "base_uri": "https://localhost:8080/"
        },
        "id": "Vl5g3p9-c6sl",
        "outputId": "0c634e9f-c93b-445a-8130-fe6651d072c4"
      },
      "outputs": [
        {
          "output_type": "stream",
          "name": "stdout",
          "text": [
            "Singly Linked List of Prime Numbers less than 20:\n",
            "2 -> 3 -> 5 -> 7 -> 11 -> 13 -> 17 -> 19 -> None\n",
            "Head of the list: 2\n",
            "Tail of the list: 19\n"
          ]
        }
      ],
      "source": [
        "class Node:\n",
        "    def __init__(self, data):\n",
        "        self.data = data\n",
        "        self.next = None\n",
        "\n",
        "class LinkedList:\n",
        "    def __init__(self):\n",
        "        self.head = None\n",
        "        self.tail = None\n",
        "\n",
        "\n",
        "    def append(self, data):\n",
        "        new_node = Node(data)\n",
        "        if self.head is None:\n",
        "            self.head = new_node\n",
        "            return\n",
        "        current = self.head\n",
        "        while current.next:\n",
        "            current = current.next\n",
        "        current.next = new_node\n",
        "\n",
        "    def display(self):\n",
        "        current = self.head\n",
        "        while current:\n",
        "            print(current.data, end=\" -> \")\n",
        "            current = current.next\n",
        "        print(\"None\")\n",
        "\n",
        "    def get_head(self):\n",
        "        if self.head:\n",
        "            return self.head.data\n",
        "        return None\n",
        "\n",
        "    def get_tail(self):\n",
        "        current = self.head\n",
        "        if not current:\n",
        "            return None\n",
        "        while current.next:\n",
        "            current = current.next\n",
        "        return current.data\n",
        "\n",
        "\n",
        "def is_prime(num):\n",
        "    if num < 2:\n",
        "        return False\n",
        "    for i in range(2, int(num**0.5) + 1):\n",
        "        if num % i == 0:\n",
        "            return False\n",
        "    return True\n",
        "\n",
        "\n",
        "if __name__ == \"__main__\":\n",
        "    primes_list = LinkedList()\n",
        "\n",
        "    for i in range(20):\n",
        "        if is_prime(i):\n",
        "            primes_list.append(i)\n",
        "\n",
        "    print(\"Singly Linked List of Prime Numbers less than 20:\")\n",
        "    primes_list.display()\n",
        "\n",
        "    print(\"Head of the list:\", primes_list.get_head())\n",
        "    print(\"Tail of the list:\", primes_list.get_tail())"
      ]
    },
    {
      "cell_type": "code",
      "source": [
        "class Node:\n",
        "    def __init__(self, data):\n",
        "        self.data = data\n",
        "        self.next = None\n",
        "\n",
        "class LinkedList:\n",
        "    def __init__(self):\n",
        "        self.head = None\n",
        "\n",
        "    def append(self, data):\n",
        "        new_node = Node(data)\n",
        "        if self.head is None:\n",
        "            self.head = new_node\n",
        "        else:\n",
        "            current = self.head\n",
        "            while current.next:\n",
        "                current = current.next\n",
        "            current.next = new_node\n",
        "\n",
        "    def display(self):\n",
        "        current = self.head\n",
        "        while current:\n",
        "            print(current.data, end=\" -> \")\n",
        "            current = current.next\n",
        "        print(\"None\")\n",
        "\n",
        "\n",
        "def is_prime(num):\n",
        "    if num < 2:\n",
        "        return False\n",
        "    for i in range(2, int(num**0.5) + 1):\n",
        "        if num % i == 0:\n",
        "            return False\n",
        "    return True\n",
        "\n",
        "linked_list = LinkedList()\n",
        "\n",
        "for i in range(20):\n",
        "    if is_prime(i):\n",
        "        linked_list.append(i)\n",
        "\n",
        "print(\"Singly Linked List of Prime Numbers less than 20:\")\n",
        "linked_list.display()\n",
        "\n",
        "print(\"Head of the list:\", linked_list.head.data)\n",
        "\n",
        "current = linked_list.head\n",
        "while current.next:\n",
        "    current = current.next\n",
        "print(\"Tail of the list:\", current.data)"
      ],
      "metadata": {
        "colab": {
          "base_uri": "https://localhost:8080/"
        },
        "id": "aOiZSo-UdCMK",
        "outputId": "041e0afb-abde-4e09-f385-88fa0d470791"
      },
      "execution_count": null,
      "outputs": [
        {
          "output_type": "stream",
          "name": "stdout",
          "text": [
            "Singly Linked List of Prime Numbers less than 20:\n",
            "2 -> 3 -> 5 -> 7 -> 11 -> 13 -> 17 -> 19 -> None\n",
            "Head of the list: 2\n",
            "Tail of the list: 19\n"
          ]
        }
      ]
    }
  ]
}
