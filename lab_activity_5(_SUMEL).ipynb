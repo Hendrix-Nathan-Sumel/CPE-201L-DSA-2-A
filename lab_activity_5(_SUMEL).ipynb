{
  "nbformat": 4,
  "nbformat_minor": 0,
  "metadata": {
    "colab": {
      "provenance": [],
      "authorship_tag": "ABX9TyMbaYoqmKDY2n0CmX7JOo8E",
      "include_colab_link": true
    },
    "kernelspec": {
      "name": "python3",
      "display_name": "Python 3"
    },
    "language_info": {
      "name": "python"
    }
  },
  "cells": [
    {
      "cell_type": "markdown",
      "metadata": {
        "id": "view-in-github",
        "colab_type": "text"
      },
      "source": [
        "<a href=\"https://colab.research.google.com/github/Hendrix-Nathan-Sumel/CPE-201L-DSA-2-A/blob/main/lab_activity_5(_SUMEL).ipynb\" target=\"_parent\"><img src=\"https://colab.research.google.com/assets/colab-badge.svg\" alt=\"Open In Colab\"/></a>"
      ]
    },
    {
      "cell_type": "code",
      "execution_count": 12,
      "metadata": {
        "id": "sEDf-sp5--ml",
        "colab": {
          "base_uri": "https://localhost:8080/"
        },
        "outputId": "24797f15-abe9-4093-e862-0383bb3b3208"
      },
      "outputs": [
        {
          "output_type": "stream",
          "name": "stdout",
          "text": [
            "the sum of array: 55\n"
          ]
        }
      ],
      "source": [
        "array = [1, 2, 3, 4, 5, 6, 7, 8, 9, 10]\n",
        "total = 0\n",
        "\n",
        "total += array [0]\n",
        "total += array [1]\n",
        "total += array [2]\n",
        "total += array [3]\n",
        "total += array [4]\n",
        "total += array [5]\n",
        "total += array [6]\n",
        "total += array [7]\n",
        "total += array [8]\n",
        "total += array [9]\n",
        "\n",
        "print (f\"the sum of array:\", total)"
      ]
    },
    {
      "cell_type": "code",
      "source": [
        "array = [1, 2, 3, 4, 5, 6, 7, 8, 9, 10]\n",
        "print (f\"Original array:\", array)\n",
        "\n",
        "numbers = int(input(\"Input a new number:\"))\n",
        "\n",
        "array.append(numbers)\n",
        "\n",
        "print(f\"Updated array:{array}\")"
      ],
      "metadata": {
        "id": "JZ2nbJ3m_u0Q",
        "colab": {
          "base_uri": "https://localhost:8080/"
        },
        "outputId": "ebd09d9a-9c1b-473a-9400-5c8f3f6f554d"
      },
      "execution_count": 8,
      "outputs": [
        {
          "output_type": "stream",
          "name": "stdout",
          "text": [
            "Original array: [1, 2, 3, 4, 5, 6, 7, 8, 9, 10]\n",
            "Input a new number:4\n",
            "Updated array:[1, 2, 3, 4, 5, 6, 7, 8, 9, 10, 4]\n"
          ]
        }
      ]
    },
    {
      "cell_type": "code",
      "source": [
        "array = [1, 2, 3, 4, 5, 6, 7, 8, 9, 10]\n",
        "print (f\"Original array:\", array)\n",
        "\n",
        "numbers = int(input(\"Input a new number in second element:\"))\n",
        "\n",
        "array.insert(1, numbers)\n",
        "\n",
        "print(f\"Updated array:{array}\")"
      ],
      "metadata": {
        "colab": {
          "base_uri": "https://localhost:8080/"
        },
        "id": "d-2UAmBi_vdo",
        "outputId": "b137bead-dc91-4b44-f73d-db7ded542480"
      },
      "execution_count": 7,
      "outputs": [
        {
          "output_type": "stream",
          "name": "stdout",
          "text": [
            "Original array: [1, 2, 3, 4, 5, 6, 7, 8, 9, 10]\n",
            "Input a new number in second element:8\n",
            "Updated array:[1, 8, 2, 3, 4, 5, 6, 7, 8, 9, 10]\n"
          ]
        }
      ]
    },
    {
      "cell_type": "code",
      "source": [
        "array = [5, 4, 3, 2, 1]\n",
        "print(f\"Original array:\",array)\n",
        "\n",
        "array.reverse()\n",
        "\n",
        "print(f\"Reversed array:\",array)"
      ],
      "metadata": {
        "id": "ZRvUxYrt_0Ww",
        "colab": {
          "base_uri": "https://localhost:8080/"
        },
        "outputId": "033d1707-9109-4b73-afbc-abd71369d841"
      },
      "execution_count": 10,
      "outputs": [
        {
          "metadata": {
            "tags": null
          },
          "name": "stdout",
          "output_type": "stream",
          "text": [
            "Original array: [5, 4, 3, 2, 1]\n",
            "Reversed array: [1, 2, 3, 4, 5]\n"
          ]
        }
      ]
    },
    {
      "cell_type": "code",
      "source": [
        "array = [1, 2, 3, 4, 5]\n",
        "\n",
        "length = len(array)\n",
        "\n",
        "print(\"the length of the arrays are:\", length)"
      ],
      "metadata": {
        "id": "rwKf8eq5_053",
        "colab": {
          "base_uri": "https://localhost:8080/"
        },
        "outputId": "ef9dc01d-9c06-4da8-f1d3-a8251c2b659f"
      },
      "execution_count": 11,
      "outputs": [
        {
          "metadata": {
            "tags": null
          },
          "name": "stdout",
          "output_type": "stream",
          "text": [
            "the length of the arrays are: 5\n"
          ]
        }
      ]
    }
  ]
}