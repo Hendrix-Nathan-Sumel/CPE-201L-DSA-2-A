{
  "nbformat": 4,
  "nbformat_minor": 0,
  "metadata": {
    "colab": {
      "provenance": [],
      "authorship_tag": "ABX9TyOtNtO2hpeRBGEKhQbJoqth",
      "include_colab_link": true
    },
    "kernelspec": {
      "name": "python3",
      "display_name": "Python 3"
    },
    "language_info": {
      "name": "python"
    }
  },
  "cells": [
    {
      "cell_type": "markdown",
      "metadata": {
        "id": "view-in-github",
        "colab_type": "text"
      },
      "source": [
        "<a href=\"https://colab.research.google.com/github/Hendrix-Nathan-Sumel/CPE-201L-DSA-2-A/blob/main/LAB_REPORT_1_(SUMEL).ipynb\" target=\"_parent\"><img src=\"https://colab.research.google.com/assets/colab-badge.svg\" alt=\"Open In Colab\"/></a>"
      ]
    },
    {
      "cell_type": "code",
      "execution_count": 3,
      "metadata": {
        "colab": {
          "base_uri": "https://localhost:8080/"
        },
        "id": "IUmGh2sSPN0U",
        "outputId": "ac76c598-218c-43f9-da6d-4f42344377b6"
      },
      "outputs": [
        {
          "output_type": "stream",
          "name": "stdout",
          "text": [
            "Name: Triangle\n",
            "Sides: 3\n",
            "Area: 12.5\n"
          ]
        }
      ],
      "source": [
        "class Polygons:\n",
        "    def __init__(self, name: str, sides: int, area: float):\n",
        "        self.name: str = name\n",
        "        self.sides: int = sides\n",
        "        self.area: float = area\n",
        "\n",
        "    def set_name(self, name: str):\n",
        "        self.name = name\n",
        "\n",
        "    def set_sides(self, sides: int):\n",
        "        self.sides = sides\n",
        "\n",
        "    def set_area(self, area: float):\n",
        "        self.area = area\n",
        "\n",
        "    def get_name(self) -> str:\n",
        "        return self.name\n",
        "\n",
        "    def get_sides(self) -> int:\n",
        "        return self.sides\n",
        "\n",
        "    def get_area(self) -> float:\n",
        "        return self.area\n",
        "\n",
        "\n",
        "polygon = Polygons(\"Triangle\", 3, 12.5)\n",
        "\n",
        "print(\"Name:\", polygon.get_name())\n",
        "print(\"Sides:\", polygon.get_sides())\n",
        "print(\"Area:\", polygon.get_area())"
      ]
    }
  ]
}
